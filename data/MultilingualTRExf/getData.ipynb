{
 "cells": [
  {
   "cell_type": "markdown",
   "metadata": {},
   "source": [
    "不同关系有多个事实，每个事实有多语言提示 \n",
    "\n",
    "提示模板取自 TREx_prompts.csv \n",
    "\n",
    "提示语言取 Wikidata 中： en nl ja vi zh ko \n",
    "\n",
    "关系："
   ]
  },
  {
   "cell_type": "code",
   "execution_count": null,
   "metadata": {},
   "outputs": [],
   "source": [
    "import json\n",
    "import pandas as pd\n",
    "import numpy as np"
   ]
  },
  {
   "cell_type": "code",
   "execution_count": null,
   "metadata": {},
   "outputs": [],
   "source": [
    "# en nl ja vi zh ko \n",
    "language_list = ['en', 'nl', 'ja', 'vi', 'zh', 'ko']\n",
    "relation_list = []\n",
    "prompt_df = pd.read_csv('./raw/TREx_prompts.csv', index_col=0)"
   ]
  },
  {
   "cell_type": "code",
   "execution_count": null,
   "metadata": {},
   "outputs": [],
   "source": [
    "prompt_df['relation']['P19']"
   ]
  },
  {
   "cell_type": "code",
   "execution_count": null,
   "metadata": {},
   "outputs": [],
   "source": [
    "# facts_list 存储事实，将raw_data的多关系拆解为简单三元组 每个三元组的元素分开\n",
    "facts_list = []\n",
    "with open('raw/TREx_multi_rel.txt') as f:\n",
    "    while  True:\n",
    "        line  =  f.readline()\n",
    "        if  not  line:\n",
    "            break;\n",
    "        if line is not '':\n",
    "            line = line.strip().split('\\t')\n",
    "            # print(line)\n",
    "            for sub in line[-1].split(' '):\n",
    "                facts_list.append([line[0], line[1], sub])"
   ]
  },
  {
   "cell_type": "code",
   "execution_count": null,
   "metadata": {},
   "outputs": [],
   "source": [
    "count_dic = {}\n",
    "for fact in facts_list:\n",
    "    if fact[1] not in count_dic:\n",
    "        count_dic[fact[1]] = 1\n",
    "    else:\n",
    "        count_dic[fact[1]] = count_dic[fact[1]] + 1\n",
    "count_dic"
   ]
  },
  {
   "cell_type": "code",
   "execution_count": null,
   "metadata": {},
   "outputs": [],
   "source": [
    "# entities_dic 存储实体及不同语言的表示方式 使用字典嵌套字典\n",
    "entities_dic = {}\n",
    "with open('raw/TREx_unicode_escape.txt') as f:\n",
    "    while  True:\n",
    "        line  =  f.readline()\n",
    "        if  not  line:\n",
    "            break;\n",
    "        id = line.strip().split('\\t')[0]\n",
    "        entities_dic[id] = {}\n",
    "        for item in line.strip().split('\\t'):\n",
    "            language = item.split('@')[-1]\n",
    "            if language in language_list:\n",
    "                entities_dic[id][language] = item.split('@')[0].strip('\"')"
   ]
  },
  {
   "cell_type": "code",
   "execution_count": null,
   "metadata": {},
   "outputs": [],
   "source": [
    "with open('../PARAREL/data_all.json') as f:\n",
    "    data_demo = json.load(f)\n",
    "    \n",
    "data_demo[0]"
   ]
  },
  {
   "cell_type": "code",
   "execution_count": 58,
   "metadata": {},
   "outputs": [],
   "source": [
    "data_all_list = []\n",
    "data_allbags_dic = {}\n",
    "for trip in facts_list:\n",
    "    # 对某一知识构建不同语言的表述\n",
    "    if np.random.rand() > 0.5:\n",
    "        # 随机选择 mask 主语还是宾语\n",
    "        \n",
    "        fact = []\n",
    "        for language in language_list:\n",
    "            if language in entities_dic[trip[0]] and language in entities_dic[trip[2]]:\n",
    "                data = [\n",
    "                    prompt_df[language][trip[1]].replace('[X]', entities_dic[trip[0]][language]).replace('[Y]', '[MASK]'),\n",
    "                    entities_dic[trip[2]][language],\n",
    "                    trip[1] + f\"({prompt_df['relation'][trip[1]]})\"\n",
    "                ]\n",
    "                fact.append(data)\n",
    "        if len(fact) > 3:        \n",
    "            if trip[1] in data_allbags_dic:\n",
    "                data_allbags_dic[trip[1]].append(fact)\n",
    "            else:\n",
    "                data_allbags_dic[trip[1]] = [fact, ]\n",
    "            data_all_list.append(fact)\n",
    "        \n",
    "        \n",
    "    else:\n",
    "        fact = []\n",
    "        for language in language_list:\n",
    "            if language in entities_dic[trip[0]] and language in entities_dic[trip[2]]:\n",
    "                data = [\n",
    "                    prompt_df[language][trip[1]].replace('[Y]', entities_dic[trip[2]][language]).replace('[X]', '[MASK]'),\n",
    "                    entities_dic[trip[0]][language],\n",
    "                    trip[1] + f\"({prompt_df['relation'][trip[1]]})\"\n",
    "                ]\n",
    "                fact.append(data)\n",
    "        if len(fact) > 3:\n",
    "            # if len(data_all_list) > 2000:\n",
    "            #     print(fact)\n",
    "            if trip[1] in data_allbags_dic:\n",
    "                data_allbags_dic[trip[1]].append(fact)\n",
    "            else:\n",
    "                data_allbags_dic[trip[1]] = [fact, ]\n",
    "            data_all_list.append(fact)\n",
    " "
   ]
  },
  {
   "cell_type": "code",
   "execution_count": 59,
   "metadata": {},
   "outputs": [
    {
     "data": {
      "text/plain": [
       "25896"
      ]
     },
     "execution_count": 59,
     "metadata": {},
     "output_type": "execute_result"
    }
   ],
   "source": [
    "len(data_all_list)"
   ]
  },
  {
   "cell_type": "code",
   "execution_count": 60,
   "metadata": {},
   "outputs": [],
   "source": [
    "with open(\"data_all.json\",\"w\") as f:\n",
    "    json.dump(data_all_list, f, ensure_ascii=False)\n",
    "\n",
    "with open(\"data_allbags.json\",\"w\") as f:\n",
    "    json.dump(data_allbags_dic, f, ensure_ascii=False)"
   ]
  },
  {
   "cell_type": "code",
   "execution_count": 61,
   "metadata": {},
   "outputs": [
    {
     "data": {
      "text/plain": [
       "dict_keys(['P27', 'P31', 'P39', 'P47', 'P101', 'P106', 'P108', 'P178', 'P190', 'P463', 'P527', 'P530', 'P937', 'P1001', 'P1303', 'P1412'])"
      ]
     },
     "execution_count": 61,
     "metadata": {},
     "output_type": "execute_result"
    }
   ],
   "source": [
    "with open('data_allbags.json') as f:\n",
    "    data = json.load(f)\n",
    "data.keys()"
   ]
  },
  {
   "cell_type": "code",
   "execution_count": 62,
   "metadata": {},
   "outputs": [
    {
     "name": "stdout",
     "output_type": "stream",
     "text": [
      "P27\t615\n",
      "P31\t714\n",
      "P39\t1603\n",
      "P47\t2684\n",
      "P101\t745\n",
      "P106\t1729\n",
      "P108\t323\n",
      "P178\t419\n",
      "P190\t5476\n",
      "P463\t1127\n",
      "P527\t1637\n",
      "P530\t5926\n",
      "P937\t837\n",
      "P1001\t447\n",
      "P1303\t894\n",
      "P1412\t720\n"
     ]
    }
   ],
   "source": [
    "for key in data.keys():\n",
    "    print(f\"{key}\\t{len(data[key])}\")"
   ]
  }
 ],
 "metadata": {
  "interpreter": {
   "hash": "2dc7b0a03ba05f39859de0b12ec4a8f1a85d7ee84966ecdae587af070a94fb9c"
  },
  "kernelspec": {
   "display_name": "Python 3 (ipykernel)",
   "language": "python",
   "name": "python3"
  },
  "language_info": {
   "codemirror_mode": {
    "name": "ipython",
    "version": 3
   },
   "file_extension": ".py",
   "mimetype": "text/x-python",
   "name": "python",
   "nbconvert_exporter": "python",
   "pygments_lexer": "ipython3",
   "version": "3.9.7"
  },
  "orig_nbformat": 4
 },
 "nbformat": 4,
 "nbformat_minor": 2
}
